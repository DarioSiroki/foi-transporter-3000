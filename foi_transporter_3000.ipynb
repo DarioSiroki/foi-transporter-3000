{
  "nbformat": 4,
  "nbformat_minor": 0,
  "metadata": {
    "colab": {
      "name": "foi-transporter-3000.ipynb",
      "provenance": [],
      "collapsed_sections": []
    },
    "kernelspec": {
      "name": "python3",
      "display_name": "Python 3"
    },
    "language_info": {
      "name": "python"
    }
  },
  "cells": [
    {
      "cell_type": "code",
      "metadata": {
        "id": "ro4NswBGKfg0"
      },
      "source": [
        "import numpy as np"
      ],
      "execution_count": 46,
      "outputs": []
    },
    {
      "cell_type": "markdown",
      "metadata": {
        "id": "KXg0j7bIGOta"
      },
      "source": [
        "# Zadatak"
      ]
    },
    {
      "cell_type": "code",
      "metadata": {
        "id": "mir46fEnvzen"
      },
      "source": [
        "Cij = np.array(\n",
        "    [\n",
        "     [1,4,6],\n",
        "     [8,2,5],\n",
        "     [3,7,9],\n",
        "    ]\n",
        ")\n",
        "\n",
        "kapaciteti_ishodista = np.array([15,45,30])\n",
        "potrebe_odredista = np.array([20,20,50])"
      ],
      "execution_count": 160,
      "outputs": []
    },
    {
      "cell_type": "markdown",
      "metadata": {
        "id": "FPhLuvtAoppm"
      },
      "source": [
        "# Originalni oblik transportnog problema"
      ]
    },
    {
      "cell_type": "code",
      "metadata": {
        "colab": {
          "base_uri": "https://localhost:8080/"
        },
        "id": "m0NKlGv2on_D",
        "outputId": "c312e924-28ba-4ec1-b3d0-6a3600cf6274"
      },
      "source": [
        "# Nekakav stackoverflow hack za subscript https://stackoverflow.com/a/24392215\n",
        "SUB = str.maketrans(\"0123456789\", \"₀₁₂₃₄₅₆₇₈₉\")\n",
        "Z = \"Funkcija cilja:\\nZ = \\n\"\n",
        "ogranicenja_redova = \"Ograničenja redova:\\n\"\n",
        "ogranicenja_stupaca = \"Ograničenja stupaca:\\n\"\n",
        "\n",
        "for i in range(0, len(Cij)):\n",
        "  for j in range(0, len(Cij[i])):\n",
        "    trosak = Cij[i][j]\n",
        "    teret = f\"x{i+1}{j+1}\".translate(SUB)\n",
        "    ogranicenja_redova += f\"{teret}+\"\n",
        "    Z += f\"{trosak}{teret} + \"\n",
        "  ogranicenja_redova = ogranicenja_redova[:-1]\n",
        "  ogranicenja_redova += f\" = {kapaciteti_ishodista[i]}\\n\"\n",
        "  Z += \"\\n\"\n",
        "\n",
        "for j in range(len(Cij[0])):\n",
        "  for i in range(len(Cij[1])):\n",
        "    teret = f\"x{i+1}{j+1}\".translate(SUB)\n",
        "    ogranicenja_stupaca += f\"{teret}+\"\n",
        "  ogranicenja_stupaca = ogranicenja_stupaca[:-1]\n",
        "  ogranicenja_stupaca += f\" = {potrebe_odredista[j]}\\n\"\n",
        "\n",
        "# Makni zadnji plus i \\n\n",
        "Z = Z[:-3]\n",
        "Z += \"\\n->min\"\n",
        "\n",
        "print(Z)\n",
        "print()\n",
        "print(ogranicenja_redova)\n",
        "print()\n",
        "print(ogranicenja_stupaca)\n",
        "print(\"Xij>=0\")\n",
        "\n",
        "\n"
      ],
      "execution_count": null,
      "outputs": [
        {
          "output_type": "stream",
          "text": [
            "Funkcija cilja:\n",
            "Z = \n",
            "5x₁₁ + 10x₁₂ + 15x₁₃ + \n",
            "12x₂₁ + 4x₂₂ + 8x₂₃ + \n",
            "7x₃₁ + 3x₃₂ + 9x₃₃ + \n",
            "14x₄₁ + 16x₄₂ + 1x₄₃ \n",
            "->min\n",
            "\n",
            "Ograničenja redova:\n",
            "x₁₁+x₁₂+x₁₃ = 45\n",
            "x₂₁+x₂₂+x₂₃ = 50\n",
            "x₃₁+x₃₂+x₃₃ = 90\n",
            "x₄₁+x₄₂+x₄₃ = 45\n",
            "\n",
            "\n",
            "Ograničenja stupaca:\n",
            "x₁₁+x₂₁+x₃₁ = 120\n",
            "x₁₂+x₂₂+x₃₂ = 40\n",
            "x₁₃+x₂₃+x₃₃ = 70\n",
            "\n",
            "Xij>=0\n"
          ],
          "name": "stdout"
        }
      ]
    },
    {
      "cell_type": "markdown",
      "metadata": {
        "id": "Mda1VdCxrRgL"
      },
      "source": [
        "# Dualni oblik transportnog problema"
      ]
    },
    {
      "cell_type": "code",
      "metadata": {
        "colab": {
          "base_uri": "https://localhost:8080/"
        },
        "id": "qpbY-NdorW7M",
        "outputId": "3bd95e6e-6ee8-48c9-9ca3-e6e64ad327bf"
      },
      "source": [
        "SUB = str.maketrans(\"0123456789\", \"₀₁₂₃₄₅₆₇₈₉\")\n",
        "Z = \"Funkcija cilja:\\nZd = \\n\"\n",
        "ogranicenja = \"\"\n",
        "\n",
        "for i, kapacitet in enumerate(kapaciteti_ishodista):\n",
        "  index = str(i+1).translate(SUB)\n",
        "  Z += f\"{kapacitet}u{index} + \" \n",
        "Z += \"\\n\"\n",
        "for i, kapacitet in enumerate(potrebe_odredista):\n",
        "  index = str(i+1).translate(SUB)\n",
        "  Z += f\"{kapacitet}v{index} + \" \n",
        "\n",
        "for i in range(len(Cij)):\n",
        "  for j in range(len(Cij[i])):\n",
        "    ogranicenja += f\"u{i+1}+v{j+1}\".translate(SUB) + f\" <= {Cij[i][j]}\\n\"\n",
        "  ogranicenja += \"\\n\"\n",
        "\n",
        "Z = Z[:-1]\n",
        "Z += \"\\n->max\"\n",
        "print(Z)\n",
        "print()\n",
        "print(ogranicenja)"
      ],
      "execution_count": null,
      "outputs": [
        {
          "output_type": "stream",
          "text": [
            "Funkcija cilja:\n",
            "Zd = \n",
            "45u₁ + 50u₂ + 90u₃ + 45u₄ + \n",
            "120v₁ + 40v₂ + 70v₃ +\n",
            "->max\n",
            "\n",
            "u₁+v₁ <= 5\n",
            "u₁+v₂ <= 10\n",
            "u₁+v₃ <= 15\n",
            "\n",
            "u₂+v₁ <= 12\n",
            "u₂+v₂ <= 4\n",
            "u₂+v₃ <= 8\n",
            "\n",
            "u₃+v₁ <= 7\n",
            "u₃+v₂ <= 3\n",
            "u₃+v₃ <= 9\n",
            "\n",
            "u₄+v₁ <= 14\n",
            "u₄+v₂ <= 16\n",
            "u₄+v₃ <= 1\n",
            "\n",
            "\n"
          ],
          "name": "stdout"
        }
      ]
    },
    {
      "cell_type": "markdown",
      "metadata": {
        "id": "uo5zYQRboGsp"
      },
      "source": [
        "# SZ metoda\n"
      ]
    },
    {
      "cell_type": "code",
      "metadata": {
        "colab": {
          "base_uri": "https://localhost:8080/"
        },
        "id": "lBzSXpNHKh2x",
        "outputId": "e8af6825-5b57-4e6d-f58d-8824d5a85915"
      },
      "source": [
        "# Kreiraj matricu tereta koja ima iste dimenzije kao i Cij i popuni ju s nulama\n",
        "tereti = np.zeros(Cij.shape)\n",
        "# Ovdje ce se biljeziti index stupca koji je zadnji popunjen\n",
        "stupac_preskakanja = -1\n",
        "\n",
        "for i in range(len(Cij)):\n",
        "  for j in range(len(Cij[i])):\n",
        "    # Preskoci ovaj stupac ako mu je kapacitet vec popunjen\n",
        "    if stupac_preskakanja != -1 and stupac_preskakanja >= j:\n",
        "      continue\n",
        "\n",
        "    # Izracunaj popunjenosti trenutnog reda i stupca\n",
        "    popunjenost_reda = np.sum(tereti[i])\n",
        "    popunjenost_stupca = np.sum(tereti[:,j])\n",
        "\n",
        "    # Izracunaj koliko je dozvoljeno popuniti red a koliko stupac\n",
        "    dozvoljeno_popunjavanje_red = kapaciteti_ishodista[i] - popunjenost_reda\n",
        "    dozvoljeno_popunjavanje_stupac = potrebe_odredista[j] - popunjenost_stupca\n",
        "\n",
        "    # Uzmi manju dopunu kao dozvoljenu\n",
        "    popunjivo = np.min((dozvoljeno_popunjavanje_red, dozvoljeno_popunjavanje_stupac))\n",
        "\n",
        "    # Dodaj u teret u matricu tereta\n",
        "    tereti[i][j] = popunjivo\n",
        "\n",
        "    # Dodaj novi teret u sume popunjenosti reda i stupca\n",
        "    popunjenost_reda += popunjivo\n",
        "    popunjenost_stupca += popunjivo\n",
        "\n",
        "    # Oznaci index stupca koji je popunjen da bi se preskocio\n",
        "    # svaki put kad iteracija dodje u novi red\n",
        "    if popunjenost_stupca == potrebe_odredista[j]:\n",
        "      stupac_preskakanja = j\n",
        "\n",
        "    # Ako je red popunjen idi u sljedeci\n",
        "    if popunjenost_reda == kapaciteti_ishodista[i]:\n",
        "      break\n",
        "\n",
        "print(\"Matrica tereta:\")\n",
        "print(tereti)"
      ],
      "execution_count": 48,
      "outputs": [
        {
          "output_type": "stream",
          "text": [
            "Matrica tereta:\n",
            "[[28.  2.  0.]\n",
            " [ 0. 20.  0.]\n",
            " [ 0. 15. 25.]]\n"
          ],
          "name": "stdout"
        }
      ]
    },
    {
      "cell_type": "markdown",
      "metadata": {
        "id": "_3wd9kuPGHji"
      },
      "source": [
        "# Metoda minimalnih troškova"
      ]
    },
    {
      "cell_type": "code",
      "metadata": {
        "colab": {
          "base_uri": "https://localhost:8080/"
        },
        "id": "f1-hq8QXdW7b",
        "outputId": "25607754-5113-48ab-9fb4-7a025274cf95"
      },
      "source": [
        "tereti = np.zeros(Cij.shape)\n",
        "popunjeni_stupci = []\n",
        "popunjeni_redovi = []\n",
        "\n",
        "while True:\n",
        "  # Ovdje ce se racunati popunjivost za sva ona polja koja su jos u igri\n",
        "  # tj. nisu u popunjenim stupcima ili redovima\n",
        "  # key = stvarni trosak (int)\n",
        "  # value = {\"i\": int, \"j\": int, \"teret\": int}\n",
        "  izracuni = {}\n",
        "\n",
        "  for i in range(len(Cij)):\n",
        "    if not i in popunjeni_redovi:\n",
        "      for j in range(len(Cij[i])):\n",
        "        if not j in popunjeni_stupci:\n",
        "          # Izracunaj popunjenosti trenutnog reda i stupca\n",
        "          popunjenost_reda = np.sum(tereti[i])\n",
        "          popunjenost_stupca = np.sum(tereti[:,j])\n",
        "\n",
        "          # Izracunaj koliko je dozvoljeno popuniti red a koliko stupac\n",
        "          dozvoljeno_popunjavanje_red = kapaciteti_ishodista[i] - popunjenost_reda\n",
        "          dozvoljeno_popunjavanje_stupac = potrebe_odredista[j] - popunjenost_stupca\n",
        "\n",
        "          # Uzmi manju dopunu kao dozvoljenu\n",
        "          popunjivo = np.min((dozvoljeno_popunjavanje_red, dozvoljeno_popunjavanje_stupac))\n",
        "\n",
        "          trosak = Cij[i][j]\n",
        "          # Dodaj trosak i zapamti njegove indexe i popunjivost\n",
        "          if not trosak in izracuni:\n",
        "            izracuni[trosak] = {\"i\": i, \"j\": j, \"teret\": popunjivo}\n",
        "          # Ako je polje s ovim stvarnim troskom vec bilo,\n",
        "          # stavi ga samo ako je njegov teret manji\n",
        "          elif izracuni[trosak][\"teret\"] < popunjivo:\n",
        "            izracuni[trosak] = {\"i\": i, \"j\": j, \"teret\": popunjivo}\n",
        "\n",
        "  # Uzmi polje s najmanjim stvarnim troskom\n",
        "  najmanji = np.array(list(izracuni.keys())).min()\n",
        "\n",
        "  red = izracuni[najmanji][\"i\"]\n",
        "  stupac = izracuni[najmanji][\"j\"]\n",
        "  teret = izracuni[najmanji][\"teret\"]\n",
        "\n",
        "  # Dodaj teret koji se moze na to polje staviti u matricu tereta\n",
        "  tereti[red][stupac] = teret\n",
        "\n",
        "  # Ako je trenutni red pun, oznaci ga kao pun\n",
        "  if np.sum(tereti[red]) == kapaciteti_ishodista[red]:\n",
        "    popunjeni_redovi.append(red)\n",
        "  # Ako je trenutni stupac pun, oznaci ga kao pun\n",
        "  if np.sum(tereti[:,stupac]) == potrebe_odredista[stupac]:\n",
        "    popunjeni_stupci.append(stupac)\n",
        "\n",
        "  # Ako su svi redovi i stupci popunjeni gotovo je\n",
        "  if len(popunjeni_redovi) == len(kapaciteti_ishodista) or len(popunjeni_stupci) == len(potrebe_odredista):\n",
        "    break\n",
        "\n",
        "print(\"Matrica tereta:\")\n",
        "print(tereti)"
      ],
      "execution_count": 83,
      "outputs": [
        {
          "output_type": "stream",
          "text": [
            "Matrica tereta:\n",
            "[[10.  0. 15.]\n",
            " [20.  0.  0.]\n",
            " [ 0. 25.  5.]]\n"
          ],
          "name": "stdout"
        }
      ]
    },
    {
      "cell_type": "markdown",
      "metadata": {
        "id": "CuyaT0_nT0SI"
      },
      "source": [
        "# Vogelova metoda"
      ]
    },
    {
      "cell_type": "code",
      "metadata": {
        "id": "9nSmTUCKFQJ_",
        "colab": {
          "base_uri": "https://localhost:8080/"
        },
        "outputId": "45702739-c1b1-46c0-bf3d-254030e64891"
      },
      "source": [
        "tereti = np.zeros(Cij.shape)\n",
        "_Cij = np.copy(Cij)\n",
        "it = 0\n",
        "\n",
        "while True:\n",
        "  # Postavi sve na -1\n",
        "  ri = np.full(kapaciteti_ishodista.shape, -1)\n",
        "  rj = np.full(potrebe_odredista.shape, -1)\n",
        "\n",
        "  # Izracunaj ri za redove\n",
        "  for i in range(len(_Cij)):\n",
        "    if not np.all(_Cij[i] == -1):\n",
        "      sortirano = np.sort(_Cij[i])\n",
        "      if np.count_nonzero(sortirano > -1) >= 2:\n",
        "        min, min2, *_ = [x for x in sortirano if x>-1]\n",
        "        ri[i] = abs(min-min2)\n",
        "      else:\n",
        "        ri[i] = 1\n",
        "\n",
        "  # Izracunaj rj za stupce\n",
        "  for j in range(len(_Cij[0])):\n",
        "    if not np.all(_Cij[:,j] == -1):\n",
        "      sortirano = np.sort(_Cij[:,j])\n",
        "      if np.count_nonzero(sortirano > -1) >= 2:\n",
        "        min, min2, *_ = [x for x in sortirano if x>-1]\n",
        "        rj[j] = abs(min-min2)\n",
        "      else:\n",
        "        rj[j] = 1\n",
        "\n",
        "  # Pronadji max ri i max rj\n",
        "  #max_i = np.argwhere(ri == np.amax(ri))\n",
        "  i = np.argmax(ri)\n",
        "  j = np.argmax(rj)\n",
        "  # Izracunaj drugi index da se zna na koje polje se stavlja teret\n",
        "  if ri[i] > rj[j]:\n",
        "    j = np.argmin(np.ma.masked_less(_Cij[i], 0))\n",
        "  else:\n",
        "    i = np.argmin(np.ma.masked_less(_Cij[:,j], 0))\n",
        "\n",
        "  # Izracunaj koliko je dozvoljeno popuniti red a koliko stupac\n",
        "  dozvoljeno_popunjavanje_red = kapaciteti_ishodista[i] - np.sum(tereti[i])\n",
        "  dozvoljeno_popunjavanje_stupac = potrebe_odredista[j] - np.sum(tereti[:,j])\n",
        "\n",
        "  # Uzmi manju dopunu kao dozvoljenu\n",
        "  popunjivo = np.min((dozvoljeno_popunjavanje_red, dozvoljeno_popunjavanje_stupac))\n",
        "  tereti[i][j] = popunjivo\n",
        "\n",
        "  # Ako je trenutni red pun, oznaci ga kao pun\n",
        "  if np.sum(tereti[i]) == kapaciteti_ishodista[i]:\n",
        "    _Cij[i] = -1\n",
        "  # Ako je trenutni stupac pun, oznaci ga kao pun\n",
        "  if np.sum(tereti[:,j]) == potrebe_odredista[j]:\n",
        "    _Cij[:,j] = -1\n",
        "  # Ako su svi redovi i stupci popunjeni gotovo je\n",
        "  if np.all(_Cij == -1):\n",
        "    break\n",
        "\n",
        "print(\"Matrica tereta:\")\n",
        "print(tereti)"
      ],
      "execution_count": 167,
      "outputs": [
        {
          "output_type": "stream",
          "text": [
            "Matrica tereta:\n",
            "[[ 0.  0. 15.]\n",
            " [ 0. 20. 25.]\n",
            " [20.  0. 10.]]\n"
          ],
          "name": "stdout"
        }
      ]
    },
    {
      "cell_type": "code",
      "metadata": {
        "id": "cKqw8l3VqNCk"
      },
      "source": [
        ""
      ],
      "execution_count": null,
      "outputs": []
    }
  ]
}